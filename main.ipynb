{
 "cells": [
  {
   "cell_type": "code",
   "execution_count": null,
   "metadata": {},
   "outputs": [],
   "source": [
    "import os\n",
    "from PIL import Image, ImageChops\n",
    "import matplotlib.pyplot as plt\n",
    "import random\n",
    "\n",
    "# Make sure you have already created a Kaggle API token and updated kaggle.json\n",
    "!kaggle datasets download -d residentmario/wheres-waldo -p dataset/\n",
    "!unzip -o dataset/wheres-waldo.zip -d dataset/\n",
    "!curl $ASSET_PATH/flickr256/vis_model.pth --output ml-mdm/vis_model_256x256.pth # Apple's Matryoshka Diffusion Model"
   ]
  },
  {
   "cell_type": "code",
   "execution_count": null,
   "metadata": {},
   "outputs": [],
   "source": [
    "# Remove the white border from the images\n",
    "def trim(im):\n",
    "    bg = Image.new(im.mode, im.size, im.getpixel((0,0)))\n",
    "    diff = ImageChops.difference(im, bg)\n",
    "    diff = ImageChops.add(diff, diff, 2.0, -100) \n",
    "    bbox = diff.getbbox()\n",
    "    if bbox:\n",
    "        return im.crop(bbox)\n",
    "\n",
    "for image_file in os.listdir('dataset/mondrian/png'):\n",
    "    if image_file.endswith('.png'):\n",
    "        im = Image.open(\"dataset/mondrian/png/\" + image_file)\n",
    "        im = trim(im)\n",
    "        im.save(\"dataset/mondrian/trimmed/\" + image_file)"
   ]
  },
  {
   "cell_type": "code",
   "execution_count": null,
   "metadata": {},
   "outputs": [],
   "source": [
    "def create_image_grid(mondrian_folder, waldo_folder, grid_size=(3, 6)):\n",
    "    mondrian_files = [f for f in os.listdir(mondrian_folder) if f.endswith('.png')]\n",
    "    waldo_files = [f for f in os.listdir(waldo_folder) if f.endswith('.jpg')]\n",
    "    \n",
    "    mondrian_count = grid_size[0] * (grid_size[1] // 2)\n",
    "    waldo_count = grid_size[0] * (grid_size[1] - grid_size[1] // 2)\n",
    "    \n",
    "    selected_mondrian = random.sample(mondrian_files, min(mondrian_count, len(mondrian_files)))\n",
    "    selected_other = random.sample(waldo_files, min(waldo_count, len(waldo_files)))\n",
    "    \n",
    "    fig, axes = plt.subplots(grid_size[0], grid_size[1], figsize=(20, 10))\n",
    "    \n",
    "    for row in range(grid_size[0]):\n",
    "        for col in range(grid_size[1]):\n",
    "            ax = axes[row, col]\n",
    "            if col < grid_size[1] // 2:\n",
    "                img_file = selected_mondrian.pop(0) if selected_mondrian else None\n",
    "                folder = mondrian_folder\n",
    "            else:\n",
    "                img_file = selected_other.pop(0) if selected_other else None\n",
    "                folder = waldo_folder\n",
    "            \n",
    "            if img_file:\n",
    "                img = Image.open(os.path.join(folder, img_file))\n",
    "                ax.imshow(img)\n",
    "            ax.axis('off')\n",
    "    \n",
    "    plt.tight_layout()\n",
    "    plt.savefig('image_grid.png')\n",
    "    plt.show()\n",
    "\n",
    "create_image_grid('dataset/mondrian/trimmed', 'dataset/waldo/256/waldo')"
   ]
  },
  {
   "cell_type": "code",
   "execution_count": null,
   "metadata": {},
   "outputs": [],
   "source": []
  }
 ],
 "metadata": {
  "kernelspec": {
   "display_name": "Python 3",
   "language": "python",
   "name": "python3"
  },
  "language_info": {
   "codemirror_mode": {
    "name": "ipython",
    "version": 3
   },
   "file_extension": ".py",
   "mimetype": "text/x-python",
   "name": "python",
   "nbconvert_exporter": "python",
   "pygments_lexer": "ipython3",
   "version": "3.10.12"
  }
 },
 "nbformat": 4,
 "nbformat_minor": 2
}
